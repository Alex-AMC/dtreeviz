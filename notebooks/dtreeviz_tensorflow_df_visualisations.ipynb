{
 "cells": [
  {
   "cell_type": "markdown",
   "id": "71d16b6f",
   "metadata": {},
   "source": [
    "# Notes\n",
    "\n",
    "- it seems that the TF-DF is going to the right node if the condition is met\n",
    "    - if value > 3 go to right node\n",
    "    - vs the others trees .... if value < 3 go to left\n",
    "        - It's the same thing, but ask from different angle\n",
    "    "
   ]
  },
  {
   "cell_type": "code",
   "execution_count": 1,
   "id": "83708484",
   "metadata": {},
   "outputs": [],
   "source": [
    "%load_ext autoreload\n",
    "%autoreload 2"
   ]
  },
  {
   "cell_type": "markdown",
   "id": "7c67c027",
   "metadata": {},
   "source": [
    "# Imports"
   ]
  },
  {
   "cell_type": "code",
   "execution_count": 2,
   "id": "53fb4b85",
   "metadata": {},
   "outputs": [
    {
     "name": "stderr",
     "output_type": "stream",
     "text": [
      "WARNING:root:TF Parameter Server distributed training not available (this is expected for the pre-build release).\n"
     ]
    }
   ],
   "source": [
    "import sys\n",
    "import os\n",
    "# add library module to PYTHONPATH\n",
    "sys.path.append(f\"{os.getcwd()}/../\")\n",
    "\n",
    "from dtreeviz.models.tfdf_decision_tree import ShadowTFDFTree\n",
    "\n",
    "import tensorflow_decision_forests as tfdf\n",
    "import tensorflow_decision_forests\n",
    "import pandas as pd\n",
    "\n",
    "from sklearn.model_selection import train_test_split\n",
    "from collections import defaultdict"
   ]
  },
  {
   "cell_type": "code",
   "execution_count": null,
   "id": "cd401852",
   "metadata": {},
   "outputs": [],
   "source": []
  },
  {
   "cell_type": "markdown",
   "id": "d4bd3d45",
   "metadata": {},
   "source": [
    "# Data preprocessing"
   ]
  },
  {
   "cell_type": "code",
   "execution_count": 22,
   "id": "016e16eb",
   "metadata": {},
   "outputs": [],
   "source": [
    "random_state = 1234\n",
    "dataset = pd.read_csv(\"../data/titanic/titanic.csv\")\n",
    "# Fill missing values for Age\n",
    "dataset.fillna({\"Age\":dataset.Age.mean()}, inplace=True)\n",
    "# Encode categorical variables\n",
    "dataset[\"Sex_label\"] = dataset.Sex.astype(\"category\").cat.codes\n",
    "dataset[\"Cabin_label\"] = dataset.Cabin.astype(\"category\").cat.codes\n",
    "dataset[\"Embarked_label\"] = dataset.Embarked.astype(\"category\").cat.codes\n",
    "features = [\"Pclass\", \"Age\", \"Fare\", \"Sex_label\", \"Cabin_label\", \"Embarked_label\"]\n",
    "target = \"Survived\""
   ]
  },
  {
   "cell_type": "code",
   "execution_count": 24,
   "id": "e8390dbf",
   "metadata": {},
   "outputs": [
    {
     "data": {
      "text/html": [
       "<div>\n",
       "<style scoped>\n",
       "    .dataframe tbody tr th:only-of-type {\n",
       "        vertical-align: middle;\n",
       "    }\n",
       "\n",
       "    .dataframe tbody tr th {\n",
       "        vertical-align: top;\n",
       "    }\n",
       "\n",
       "    .dataframe thead th {\n",
       "        text-align: right;\n",
       "    }\n",
       "</style>\n",
       "<table border=\"1\" class=\"dataframe\">\n",
       "  <thead>\n",
       "    <tr style=\"text-align: right;\">\n",
       "      <th></th>\n",
       "      <th>Pclass</th>\n",
       "      <th>Age</th>\n",
       "      <th>Fare</th>\n",
       "      <th>Sex_label</th>\n",
       "      <th>Cabin_label</th>\n",
       "      <th>Embarked_label</th>\n",
       "      <th>Survived</th>\n",
       "    </tr>\n",
       "  </thead>\n",
       "  <tbody>\n",
       "    <tr>\n",
       "      <th>0</th>\n",
       "      <td>3</td>\n",
       "      <td>22.000000</td>\n",
       "      <td>7.2500</td>\n",
       "      <td>1</td>\n",
       "      <td>-1</td>\n",
       "      <td>2</td>\n",
       "      <td>0</td>\n",
       "    </tr>\n",
       "    <tr>\n",
       "      <th>1</th>\n",
       "      <td>1</td>\n",
       "      <td>38.000000</td>\n",
       "      <td>71.2833</td>\n",
       "      <td>0</td>\n",
       "      <td>81</td>\n",
       "      <td>0</td>\n",
       "      <td>1</td>\n",
       "    </tr>\n",
       "    <tr>\n",
       "      <th>2</th>\n",
       "      <td>3</td>\n",
       "      <td>26.000000</td>\n",
       "      <td>7.9250</td>\n",
       "      <td>0</td>\n",
       "      <td>-1</td>\n",
       "      <td>2</td>\n",
       "      <td>1</td>\n",
       "    </tr>\n",
       "    <tr>\n",
       "      <th>3</th>\n",
       "      <td>1</td>\n",
       "      <td>35.000000</td>\n",
       "      <td>53.1000</td>\n",
       "      <td>0</td>\n",
       "      <td>55</td>\n",
       "      <td>2</td>\n",
       "      <td>1</td>\n",
       "    </tr>\n",
       "    <tr>\n",
       "      <th>4</th>\n",
       "      <td>3</td>\n",
       "      <td>35.000000</td>\n",
       "      <td>8.0500</td>\n",
       "      <td>1</td>\n",
       "      <td>-1</td>\n",
       "      <td>2</td>\n",
       "      <td>0</td>\n",
       "    </tr>\n",
       "    <tr>\n",
       "      <th>...</th>\n",
       "      <td>...</td>\n",
       "      <td>...</td>\n",
       "      <td>...</td>\n",
       "      <td>...</td>\n",
       "      <td>...</td>\n",
       "      <td>...</td>\n",
       "      <td>...</td>\n",
       "    </tr>\n",
       "    <tr>\n",
       "      <th>886</th>\n",
       "      <td>2</td>\n",
       "      <td>27.000000</td>\n",
       "      <td>13.0000</td>\n",
       "      <td>1</td>\n",
       "      <td>-1</td>\n",
       "      <td>2</td>\n",
       "      <td>0</td>\n",
       "    </tr>\n",
       "    <tr>\n",
       "      <th>887</th>\n",
       "      <td>1</td>\n",
       "      <td>19.000000</td>\n",
       "      <td>30.0000</td>\n",
       "      <td>0</td>\n",
       "      <td>30</td>\n",
       "      <td>2</td>\n",
       "      <td>1</td>\n",
       "    </tr>\n",
       "    <tr>\n",
       "      <th>888</th>\n",
       "      <td>3</td>\n",
       "      <td>29.699118</td>\n",
       "      <td>23.4500</td>\n",
       "      <td>0</td>\n",
       "      <td>-1</td>\n",
       "      <td>2</td>\n",
       "      <td>0</td>\n",
       "    </tr>\n",
       "    <tr>\n",
       "      <th>889</th>\n",
       "      <td>1</td>\n",
       "      <td>26.000000</td>\n",
       "      <td>30.0000</td>\n",
       "      <td>1</td>\n",
       "      <td>60</td>\n",
       "      <td>0</td>\n",
       "      <td>1</td>\n",
       "    </tr>\n",
       "    <tr>\n",
       "      <th>890</th>\n",
       "      <td>3</td>\n",
       "      <td>32.000000</td>\n",
       "      <td>7.7500</td>\n",
       "      <td>1</td>\n",
       "      <td>-1</td>\n",
       "      <td>1</td>\n",
       "      <td>0</td>\n",
       "    </tr>\n",
       "  </tbody>\n",
       "</table>\n",
       "<p>891 rows × 7 columns</p>\n",
       "</div>"
      ],
      "text/plain": [
       "     Pclass        Age     Fare  Sex_label  Cabin_label  Embarked_label  \\\n",
       "0         3  22.000000   7.2500          1           -1               2   \n",
       "1         1  38.000000  71.2833          0           81               0   \n",
       "2         3  26.000000   7.9250          0           -1               2   \n",
       "3         1  35.000000  53.1000          0           55               2   \n",
       "4         3  35.000000   8.0500          1           -1               2   \n",
       "..      ...        ...      ...        ...          ...             ...   \n",
       "886       2  27.000000  13.0000          1           -1               2   \n",
       "887       1  19.000000  30.0000          0           30               2   \n",
       "888       3  29.699118  23.4500          0           -1               2   \n",
       "889       1  26.000000  30.0000          1           60               0   \n",
       "890       3  32.000000   7.7500          1           -1               1   \n",
       "\n",
       "     Survived  \n",
       "0           0  \n",
       "1           1  \n",
       "2           1  \n",
       "3           1  \n",
       "4           0  \n",
       "..        ...  \n",
       "886         0  \n",
       "887         1  \n",
       "888         0  \n",
       "889         1  \n",
       "890         0  \n",
       "\n",
       "[891 rows x 7 columns]"
      ]
     },
     "execution_count": 24,
     "metadata": {},
     "output_type": "execute_result"
    }
   ],
   "source": [
    "dataset[features + [target]]"
   ]
  },
  {
   "cell_type": "markdown",
   "id": "2784519f",
   "metadata": {},
   "source": [
    "# Classification"
   ]
  },
  {
   "cell_type": "markdown",
   "id": "c61b37d9",
   "metadata": {},
   "source": [
    "## Model training"
   ]
  },
  {
   "cell_type": "code",
   "execution_count": 28,
   "id": "c25856ac",
   "metadata": {},
   "outputs": [],
   "source": [
    "train, test = train_test_split(dataset[features + [target]], train_size=0.7, stratify=dataset.Survived)"
   ]
  },
  {
   "cell_type": "code",
   "execution_count": 29,
   "id": "0fe2380a",
   "metadata": {},
   "outputs": [],
   "source": [
    "train_ds = tfdf.keras.pd_dataframe_to_tf_dataset(train, label=target)\n",
    "test_ds = tfdf.keras.pd_dataframe_to_tf_dataset(test, label=target)"
   ]
  },
  {
   "cell_type": "code",
   "execution_count": 30,
   "id": "ac924bae",
   "metadata": {},
   "outputs": [
    {
     "name": "stdout",
     "output_type": "stream",
     "text": [
      "Use /var/folders/yp/rczwnkhn6nn9mfcf0bgc61jh0000gn/T/tmp1zpss3y5 as temporary training directory\n"
     ]
    }
   ],
   "source": [
    "model = tfdf.keras.RandomForestModel(max_depth=3)\n"
   ]
  },
  {
   "cell_type": "code",
   "execution_count": 31,
   "id": "548e4f1a",
   "metadata": {},
   "outputs": [
    {
     "name": "stdout",
     "output_type": "stream",
     "text": [
      "Starting reading the dataset\n",
      "1/1 [==============================] - ETA: 0s\n",
      "Dataset read in 0:00:00.127191\n",
      "Training model\n",
      "Model trained in 0:00:00.022056\n",
      "Compiling model\n",
      "1/1 [==============================] - 0s 159ms/step\n"
     ]
    },
    {
     "data": {
      "text/plain": [
       "<keras.callbacks.History at 0x13eaeee20>"
      ]
     },
     "execution_count": 31,
     "metadata": {},
     "output_type": "execute_result"
    }
   ],
   "source": [
    "model.fit(train_ds)\n"
   ]
  },
  {
   "cell_type": "code",
   "execution_count": 32,
   "id": "33d80dd3",
   "metadata": {},
   "outputs": [],
   "source": [
    "model.compile(metrics=[\"accuracy\"])\n"
   ]
  },
  {
   "cell_type": "code",
   "execution_count": 33,
   "id": "e6e4212c",
   "metadata": {},
   "outputs": [
    {
     "name": "stdout",
     "output_type": "stream",
     "text": [
      "1/1 [==============================] - 0s 321ms/step - loss: 0.0000e+00 - accuracy: 0.7649\n",
      "[0.0, 0.7649253606796265]\n"
     ]
    }
   ],
   "source": [
    "print(model.evaluate(test_ds))\n"
   ]
  },
  {
   "cell_type": "markdown",
   "id": "5601ec4c",
   "metadata": {},
   "source": [
    "## Model metadata discovery"
   ]
  },
  {
   "cell_type": "markdown",
   "id": "9f7e7e29",
   "metadata": {},
   "source": [
    "### Prepare for HTML"
   ]
  },
  {
   "cell_type": "code",
   "execution_count": 306,
   "id": "cfdb0b4e",
   "metadata": {
    "scrolled": true
   },
   "outputs": [
    {
     "name": "stdout",
     "output_type": "stream",
     "text": [
      "\n",
      "<script src=\"https://d3js.org/d3.v6.min.js\"></script>\n",
      "<div id=\"tree_plot_0a120c0fa7d04e6d8495fd9bff8c09f6\"></div>\n",
      "<script>\n",
      "/*\n",
      " * Copyright 2021 Google LLC.\n",
      " * Licensed under the Apache License, Version 2.0 (the \"License\");\n",
      " * you may not use this file except in compliance with the License.\n",
      " * You may obtain a copy of the License at\n",
      " *\n",
      " *     https://www.apache.org/licenses/LICENSE-2.0\n",
      " *\n",
      " * Unless required by applicable law or agreed to in writing, software\n",
      " * distributed under the License is distributed on an \"AS IS\" BASIS,\n",
      " * WITHOUT WARRANTIES OR CONDITIONS OF ANY KIND, either express or implied.\n",
      " * See the License for the specific language governing permissions and\n",
      " * limitations under the License.\n",
      " */\n",
      "\n",
      "/**\n",
      " *  Plotting of decision trees generated by TF-DF.\n",
      " *\n",
      " *  A tree is a recursive structure of node objects.\n",
      " *  A node contains one or more of the following components:\n",
      " *\n",
      " *    - A value: Representing the output of the node. If the node is not a leaf,\n",
      " *      the value is only present for analysis i.e. it is not used for\n",
      " *      predictions.\n",
      " *\n",
      " *    - A condition : For non-leaf nodes, the condition (also known as split)\n",
      " *      defines a binary test to branch to the positive or negative child.\n",
      " *\n",
      " *    - An explanation: Generally a plot showing the relation between the label\n",
      " *      and the condition to give insights about the effect of the condition.\n",
      " *\n",
      " *    - Two children : For non-leaf nodes, the children nodes. The first\n",
      " *      children (i.e. \"node.children[0]\") is the negative children (drawn in\n",
      " *      red). The second children is the positive one (drawn in green).\n",
      " *\n",
      " */\n",
      "\n",
      "/**\n",
      " * Plots a single decision tree into a DOM element.\n",
      " * @param {!options} options Dictionary of configurations.\n",
      " * @param {!tree} raw_tree Recursive tree structure.\n",
      " * @param {string} canvas_id Id of the output dom element.\n",
      " */\n",
      "function display_tree(options, raw_tree, canvas_id) {\n",
      "  console.log(options);\n",
      "\n",
      "  // Determine the node placement.\n",
      "  const tree_struct = d3.tree().nodeSize(\n",
      "      [options.node_y_offset, options.node_x_offset])(d3.hierarchy(raw_tree));\n",
      "\n",
      "  // Boundaries of the node placement.\n",
      "  let x_min = Infinity;\n",
      "  let x_max = -x_min;\n",
      "  let y_min = Infinity;\n",
      "  let y_max = -x_min;\n",
      "\n",
      "  tree_struct.each(d => {\n",
      "    if (d.x > x_max) x_max = d.x;\n",
      "    if (d.x < x_min) x_min = d.x;\n",
      "    if (d.y > y_max) y_max = d.y;\n",
      "    if (d.y < y_min) y_min = d.y;\n",
      "  });\n",
      "\n",
      "  // Size of the plot.\n",
      "  const width = y_max - y_min + options.node_x_size + options.margin * 2;\n",
      "  const height = x_max - x_min + options.node_y_size + options.margin * 2 +\n",
      "      options.node_y_offset - options.node_y_size;\n",
      "\n",
      "  const plot = d3.select(canvas_id);\n",
      "\n",
      "  // Tool tip\n",
      "  options.tooltip = plot.append('div')\n",
      "                        .attr('width', 100)\n",
      "                        .attr('height', 100)\n",
      "                        .style('padding', '4px')\n",
      "                        .style('background', '#fff')\n",
      "                        .style('box-shadow', '4px 4px 0px rgba(0,0,0,0.1)')\n",
      "                        .style('border', '1px solid black')\n",
      "                        .style('font-family', 'sans-serif')\n",
      "                        .style('font-size', options.font_size)\n",
      "                        .style('position', 'absolute')\n",
      "                        .style('z-index', '10')\n",
      "                        .attr('pointer-events', 'none')\n",
      "                        .style('display', 'none');\n",
      "\n",
      "  // Create canvas\n",
      "  const svg = plot.append('svg').attr('width', width).attr('height', height);\n",
      "  const graph =\n",
      "      svg.style('overflow', 'visible')\n",
      "          .append('g')\n",
      "          .attr('font-family', 'sans-serif')\n",
      "          .attr('font-size', options.font_size)\n",
      "          .attr(\n",
      "              'transform',\n",
      "              () => `translate(${options.margin},${\n",
      "                  - x_min + options.node_y_offset / 2 + options.margin})`);\n",
      "\n",
      "  // Plot bounding box.\n",
      "  if (options.show_plot_bounding_box) {\n",
      "    svg.append('rect')\n",
      "        .attr('width', width)\n",
      "        .attr('height', height)\n",
      "        .attr('fill', 'none')\n",
      "        .attr('stroke-width', 1.0)\n",
      "        .attr('stroke', 'black');\n",
      "  }\n",
      "\n",
      "  // Draw the edges.\n",
      "  display_edges(options, graph, tree_struct);\n",
      "\n",
      "  // Draw the nodes.\n",
      "  display_nodes(options, graph, tree_struct);\n",
      "}\n",
      "\n",
      "/**\n",
      " * Draw the nodes of the tree.\n",
      " * @param {!options} options Dictionary of configurations.\n",
      " * @param {!graph} graph D3 search handle containing the graph.\n",
      " * @param {!tree_struct} tree_struct Structure of the tree (node placement,\n",
      " *     data, etc.).\n",
      " */\n",
      "function display_nodes(options, graph, tree_struct) {\n",
      "  const nodes = graph.append('g')\n",
      "                    .selectAll('g')\n",
      "                    .data(tree_struct.descendants())\n",
      "                    .join('g')\n",
      "                    .attr('transform', d => `translate(${d.y},${d.x})`);\n",
      "\n",
      "  nodes.append('rect')\n",
      "      .attr('x', 0.5)\n",
      "      .attr('y', 0.5)\n",
      "      .attr('width', options.node_x_size)\n",
      "      .attr('height', options.node_y_size)\n",
      "      .attr('stroke', 'lightgrey')\n",
      "      .attr('stroke-width', 1)\n",
      "      .attr('fill', 'white')\n",
      "      .attr('y', -options.node_y_size / 2);\n",
      "\n",
      "  // Brackets on the right of condition nodes without children.\n",
      "  non_leaf_node_without_children =\n",
      "      nodes.filter(node => node.data.condition != null && node.children == null)\n",
      "          .append('g')\n",
      "          .attr('transform', `translate(${options.node_x_size},0)`);\n",
      "\n",
      "  non_leaf_node_without_children.append('path')\n",
      "      .attr('d', 'M0,0 C 10,0 0,10 10,10')\n",
      "      .attr('fill', 'none')\n",
      "      .attr('stroke-width', 1.0)\n",
      "      .attr('stroke', '#F00');\n",
      "\n",
      "  non_leaf_node_without_children.append('path')\n",
      "      .attr('d', 'M0,0 C 10,0 0,-10 10,-10')\n",
      "      .attr('fill', 'none')\n",
      "      .attr('stroke-width', 1.0)\n",
      "      .attr('stroke', '#0F0');\n",
      "\n",
      "  const node_content = nodes.append('g').attr(\n",
      "      'transform',\n",
      "      `translate(0,${options.node_padding - options.node_y_size / 2})`);\n",
      "\n",
      "  node_content.append(node => create_node_element(options, node));\n",
      "}\n",
      "\n",
      "/**\n",
      " * Creates the D3 content for a single node.\n",
      " * @param {!options} options Dictionary of configurations.\n",
      " * @param {!node} node Node to draw.\n",
      " * @return {!d3} D3 content.\n",
      " */\n",
      "function create_node_element(options, node) {\n",
      "  // Output accumulator.\n",
      "  let output = {\n",
      "    // Content to draw.\n",
      "    content: d3.create('svg:g'),\n",
      "    // Vertical offset to the next element to draw.\n",
      "    vertical_offset: 0\n",
      "  };\n",
      "\n",
      "  // Conditions.\n",
      "  if (node.data.condition != null) {\n",
      "    display_condition(options, node.data.condition, output);\n",
      "  }\n",
      "\n",
      "  // Values.\n",
      "  if (node.data.value != null) {\n",
      "    display_value(options, node.data.value, output);\n",
      "  }\n",
      "\n",
      "  // Explanations.\n",
      "  if (node.data.explanation != null) {\n",
      "    display_explanation(options, node.data.explanation, output);\n",
      "  }\n",
      "\n",
      "  return output.content.node();\n",
      "}\n",
      "\n",
      "\n",
      "/**\n",
      " * Adds a single line of text inside of a node.\n",
      " * @param {!options} options Dictionary of configurations.\n",
      " * @param {string} text Text to display.\n",
      " * @param {!output} output Output display accumulator.\n",
      " */\n",
      "function display_node_text(options, text, output) {\n",
      "  output.content.append('text')\n",
      "      .attr('x', options.node_padding)\n",
      "      .attr('y', output.vertical_offset)\n",
      "      .attr('alignment-baseline', 'hanging')\n",
      "      .text(text);\n",
      "  output.vertical_offset += 10;\n",
      "}\n",
      "\n",
      "/**\n",
      " * Adds a single line of text inside of a node with a tooltip.\n",
      " * @param {!options} options Dictionary of configurations.\n",
      " * @param {string} text Text to display.\n",
      " * @param {string} tooltip Text in the Tooltip.\n",
      " * @param {!output} output Output display accumulator.\n",
      " */\n",
      "function display_node_text_with_tooltip(options, text, tooltip, output) {\n",
      "  const item = output.content.append('text')\n",
      "                   .attr('x', options.node_padding)\n",
      "                   .attr('alignment-baseline', 'hanging')\n",
      "                   .text(text);\n",
      "\n",
      "  add_tooltip(options, item, () => tooltip);\n",
      "  output.vertical_offset += 10;\n",
      "}\n",
      "\n",
      "/**\n",
      " * Adds a tooltip to a dom element.\n",
      " * @param {!options} options Dictionary of configurations.\n",
      " * @param {!dom} target Dom element to equip with a tooltip.\n",
      " * @param {!func} get_content Generates the html content of the tooltip.\n",
      " */\n",
      "function add_tooltip(options, target, get_content) {\n",
      "  function show(d) {\n",
      "    options.tooltip.style('display', 'block');\n",
      "    options.tooltip.html(get_content());\n",
      "  }\n",
      "\n",
      "  function hide(d) {\n",
      "    options.tooltip.style('display', 'none');\n",
      "  }\n",
      "\n",
      "  function move(d) {\n",
      "    options.tooltip.style('display', 'block');\n",
      "    options.tooltip.style('left', (d.pageX + 5) + 'px');\n",
      "    options.tooltip.style('top', d.pageY + 'px');\n",
      "  }\n",
      "\n",
      "  target.on('mouseover', show);\n",
      "  target.on('mouseout', hide);\n",
      "  target.on('mousemove', move);\n",
      "}\n",
      "\n",
      "/**\n",
      " * Adds a condition inside of a node.\n",
      " * @param {!options} options Dictionary of configurations.\n",
      " * @param {!condition} condition Condition to display.\n",
      " * @param {!output} output Output display accumulator.\n",
      " */\n",
      "function display_condition(options, condition, output) {\n",
      "  threshold_format = d3.format('r');\n",
      "\n",
      "  if (condition.type === 'IS_MISSING') {\n",
      "    display_node_text(options, `${condition.attribute} is missing`, output);\n",
      "    return;\n",
      "  }\n",
      "\n",
      "  if (condition.type === 'IS_TRUE') {\n",
      "    display_node_text(options, `${condition.attribute} is true`, output);\n",
      "    return;\n",
      "  }\n",
      "\n",
      "  if (condition.type === 'NUMERICAL_IS_HIGHER_THAN') {\n",
      "    format = d3.format('r');\n",
      "    display_node_text(\n",
      "        options,\n",
      "        `${condition.attribute} >= ${threshold_format(condition.threshold)}`,\n",
      "        output);\n",
      "    return;\n",
      "  }\n",
      "\n",
      "  if (condition.type === 'CATEGORICAL_IS_IN') {\n",
      "    display_node_text_with_tooltip(\n",
      "        options, `${condition.attribute} in [...]`,\n",
      "        `${condition.attribute} in [${condition.mask}]`, output);\n",
      "    return;\n",
      "  }\n",
      "\n",
      "  if (condition.type === 'CATEGORICAL_SET_CONTAINS') {\n",
      "    display_node_text_with_tooltip(\n",
      "        options, `${condition.attribute} intersect [...]`,\n",
      "        `${condition.attribute} intersect [${condition.mask}]`, output);\n",
      "    return;\n",
      "  }\n",
      "\n",
      "  if (condition.type === 'NUMERICAL_SPARSE_OBLIQUE') {\n",
      "    display_node_text_with_tooltip(\n",
      "        options, `Sparse oblique split...`,\n",
      "        `[${condition.attributes}]*[${condition.weights}]>=${\n",
      "            threshold_format(condition.threshold)}`,\n",
      "        output);\n",
      "    return;\n",
      "  }\n",
      "\n",
      "  display_node_text(\n",
      "      options, `Non supported condition ${condition.type}`, output);\n",
      "}\n",
      "\n",
      "/**\n",
      " * Adds a value inside of a node.\n",
      " * @param {!options} options Dictionary of configurations.\n",
      " * @param {!value} value Value to display.\n",
      " * @param {!output} output Output display accumulator.\n",
      " */\n",
      "function display_value(options, value, output) {\n",
      "  if (value.type === 'PROBABILITY') {\n",
      "    const left_margin = 0;\n",
      "    const right_margin = 50;\n",
      "    const plot_width = options.node_x_size - options.node_padding * 2 -\n",
      "        left_margin - right_margin;\n",
      "\n",
      "    let cusum = Array.from(d3.cumsum(value.distribution));\n",
      "    cusum.unshift(0);\n",
      "    const distribution_plot = output.content.append('g').attr(\n",
      "        'transform', `translate(0,${output.vertical_offset + 0.5})`);\n",
      "\n",
      "    distribution_plot.selectAll('rect')\n",
      "        .data(value.distribution)\n",
      "        .join('rect')\n",
      "        .attr('height', 10)\n",
      "        .attr(\n",
      "            'x',\n",
      "            (d, i) =>\n",
      "                (cusum[i] * plot_width + left_margin + options.node_padding))\n",
      "        .attr('width', (d, i) => d * plot_width)\n",
      "        .style('fill', (d, i) => d3.schemeSet1[i]);\n",
      "\n",
      "    const num_examples =\n",
      "        output.content.append('g')\n",
      "            .attr('transform', `translate(0,${output.vertical_offset})`)\n",
      "            .append('text')\n",
      "            .attr('x', options.node_x_size - options.node_padding)\n",
      "            .attr('alignment-baseline', 'hanging')\n",
      "            .attr('text-anchor', 'end')\n",
      "            .text(`(${value.num_examples})`);\n",
      "\n",
      "    const distribution_details = d3.create('ul');\n",
      "    distribution_details.selectAll('li')\n",
      "        .data(value.distribution)\n",
      "        .join('li')\n",
      "        .append('span')\n",
      "        .text(\n",
      "            (d, i) =>\n",
      "                'class ' + i + ': ' + d3.format('.3%')(value.distribution[i]));\n",
      "\n",
      "    add_tooltip(options, distribution_plot, () => distribution_details.html());\n",
      "    add_tooltip(options, num_examples, () => 'Number of examples');\n",
      "\n",
      "    output.vertical_offset += 10;\n",
      "    return;\n",
      "  }\n",
      "\n",
      "  if (value.type === 'REGRESSION') {\n",
      "    display_node_text(\n",
      "        options,\n",
      "        'value: ' + d3.format('r')(value.value) + ` (` +\n",
      "            d3.format('.6')(value.num_examples) + `)`,\n",
      "        output);\n",
      "    return;\n",
      "  }\n",
      "\n",
      "  display_node_text(options, `Non supported value ${value.type}`, output);\n",
      "}\n",
      "\n",
      "/**\n",
      " * Adds an explanation inside of a node.\n",
      " * @param {!options} options Dictionary of configurations.\n",
      " * @param {!explanation} explanation Explanation to display.\n",
      " * @param {!output} output Output display accumulator.\n",
      " */\n",
      "function display_explanation(options, explanation, output) {\n",
      "  // Margin before the explanation.\n",
      "  output.vertical_offset += 10;\n",
      "\n",
      "  display_node_text(\n",
      "      options, `Non supported explanation ${explanation.type}`, output);\n",
      "}\n",
      "\n",
      "\n",
      "/**\n",
      " * Draw the edges of the tree.\n",
      " * @param {!options} options Dictionary of configurations.\n",
      " * @param {!graph} graph D3 search handle containing the graph.\n",
      " * @param {!tree_struct} tree_struct Structure of the tree (node placement,\n",
      " *     data, etc.).\n",
      " */\n",
      "function display_edges(options, graph, tree_struct) {\n",
      "  // Draw an edge between a parent and a child node with a bezier.\n",
      "  function draw_single_edge(d) {\n",
      "    return 'M' + (d.source.y + options.node_x_size) + ',' + d.source.x + ' C' +\n",
      "        (d.source.y + options.node_x_size + options.edge_rounding) + ',' +\n",
      "        d.source.x + ' ' + (d.target.y - options.edge_rounding) + ',' +\n",
      "        d.target.x + ' ' + d.target.y + ',' + d.target.x;\n",
      "  }\n",
      "\n",
      "  graph.append('g')\n",
      "      .attr('fill', 'none')\n",
      "      .attr('stroke-width', 1.2)\n",
      "      .selectAll('path')\n",
      "      .data(tree_struct.links())\n",
      "      .join('path')\n",
      "      .attr('d', draw_single_edge)\n",
      "      .attr(\n",
      "          'stroke', d => (d.target === d.source.children[0]) ? '#0F0' : '#F00');\n",
      "}\n",
      "\n",
      "display_tree({\"margin\": 10, \"node_x_size\": 160, \"node_y_size\": 28, \"node_x_offset\": 180, \"node_y_offset\": 33, \"font_size\": 10, \"edge_rounding\": 20, \"node_padding\": 2, \"show_plot_bounding_box\": false}, {\"value\": {\"type\": \"PROBABILITY\", \"distribution\": [0.608346709470305, 0.391653290529695], \"num_examples\": 623.0}, \"condition\": {\"type\": \"CATEGORICAL_IS_IN\", \"attribute\": \"Sex_label\", \"mask\": [1]}, \"children\": [{\"value\": {\"type\": \"PROBABILITY\", \"distribution\": [0.23333333333333334, 0.7666666666666667], \"num_examples\": 210.0}, \"condition\": {\"type\": \"NUMERICAL_IS_HIGHER_THAN\", \"attribute\": \"Pclass\", \"threshold\": 2.5}, \"children\": [{\"value\": {\"type\": \"PROBABILITY\", \"distribution\": [0.5232558139534884, 0.47674418604651164], \"num_examples\": 86.0}}, {\"value\": {\"type\": \"PROBABILITY\", \"distribution\": [0.03225806451612903, 0.967741935483871], \"num_examples\": 124.0}}]}, {\"value\": {\"type\": \"PROBABILITY\", \"distribution\": [0.7990314769975787, 0.2009685230024213], \"num_examples\": 413.0}, \"condition\": {\"type\": \"NUMERICAL_IS_HIGHER_THAN\", \"attribute\": \"Fare\", \"threshold\": 26.268749237060547}, \"children\": [{\"value\": {\"type\": \"PROBABILITY\", \"distribution\": [0.6120689655172413, 0.3879310344827586], \"num_examples\": 116.0}}, {\"value\": {\"type\": \"PROBABILITY\", \"distribution\": [0.8720538720538721, 0.12794612794612795], \"num_examples\": 297.0}}]}]}, \"#tree_plot_0a120c0fa7d04e6d8495fd9bff8c09f6\")\n",
      "</script>\n",
      "\n"
     ]
    }
   ],
   "source": [
    "\n",
    "print(tfdf.model_plotter.plot_model(model, tree_idx=1))"
   ]
  },
  {
   "cell_type": "markdown",
   "id": "de1c1a16",
   "metadata": {},
   "source": [
    "### Model inspector"
   ]
  },
  {
   "cell_type": "code",
   "execution_count": 50,
   "id": "df1a9b85",
   "metadata": {},
   "outputs": [
    {
     "data": {
      "text/plain": [
       "<tensorflow_decision_forests.component.inspector.inspector._RandomForestInspector at 0x1447d0610>"
      ]
     },
     "execution_count": 50,
     "metadata": {},
     "output_type": "execute_result"
    }
   ],
   "source": [
    "model.make_inspector()"
   ]
  },
  {
   "cell_type": "code",
   "execution_count": 308,
   "id": "ac422038",
   "metadata": {
    "scrolled": true
   },
   "outputs": [
    {
     "data": {
      "text/plain": [
       "['MODEL_NAME',\n",
       " '__abstractmethods__',\n",
       " '__class__',\n",
       " '__delattr__',\n",
       " '__dict__',\n",
       " '__dir__',\n",
       " '__doc__',\n",
       " '__eq__',\n",
       " '__format__',\n",
       " '__ge__',\n",
       " '__getattribute__',\n",
       " '__gt__',\n",
       " '__hash__',\n",
       " '__init__',\n",
       " '__init_subclass__',\n",
       " '__le__',\n",
       " '__lt__',\n",
       " '__module__',\n",
       " '__ne__',\n",
       " '__new__',\n",
       " '__reduce__',\n",
       " '__reduce_ex__',\n",
       " '__repr__',\n",
       " '__setattr__',\n",
       " '__sizeof__',\n",
       " '__str__',\n",
       " '__subclasshook__',\n",
       " '__weakref__',\n",
       " '_abc_impl',\n",
       " '_dataspec',\n",
       " '_directory',\n",
       " '_header',\n",
       " '_make_simple_column_spec',\n",
       " '_specialized_header',\n",
       " 'dataspec',\n",
       " 'evaluation',\n",
       " 'export_to_tensorboard',\n",
       " 'extract_all_trees',\n",
       " 'extract_tree',\n",
       " 'features',\n",
       " 'header',\n",
       " 'iterate_on_nodes',\n",
       " 'label',\n",
       " 'label_classes',\n",
       " 'metadata',\n",
       " 'model_type',\n",
       " 'num_trees',\n",
       " 'objective',\n",
       " 'specialized_header',\n",
       " 'task',\n",
       " 'training_logs',\n",
       " 'variable_importances',\n",
       " 'winner_take_all_inference']"
      ]
     },
     "execution_count": 308,
     "metadata": {},
     "output_type": "execute_result"
    }
   ],
   "source": [
    "dir(model.make_inspector())"
   ]
  },
  {
   "cell_type": "code",
   "execution_count": 309,
   "id": "6934e811",
   "metadata": {
    "scrolled": true
   },
   "outputs": [
    {
     "name": "stdout",
     "output_type": "stream",
     "text": [
      "IterNodeResult(node=NonLeafNode(condition=(Sex_label in [1]; miss=False), pos_child=None, neg_child=None, value=ProbabilityValue([0.608346709470305, 0.391653290529695],n=623.0)), depth=0, tree_idx=1)\n",
      "1\n",
      "----\n",
      "IterNodeResult(node=NonLeafNode(condition=(Fare >= 26.268749237060547; miss=True), pos_child=None, neg_child=None, value=ProbabilityValue([0.7990314769975787, 0.2009685230024213],n=413.0)), depth=1, tree_idx=1)\n",
      "1\n",
      "----\n",
      "IterNodeResult(node=LeafNode(value=ProbabilityValue([0.8720538720538721, 0.12794612794612795],n=297.0), idx=0), depth=2, tree_idx=1)\n",
      "1\n",
      "----\n",
      "IterNodeResult(node=LeafNode(value=ProbabilityValue([0.6120689655172413, 0.3879310344827586],n=116.0), idx=1), depth=2, tree_idx=1)\n",
      "1\n",
      "----\n",
      "IterNodeResult(node=NonLeafNode(condition=(Pclass >= 2.5; miss=False), pos_child=None, neg_child=None, value=ProbabilityValue([0.23333333333333334, 0.7666666666666667],n=210.0)), depth=1, tree_idx=1)\n",
      "1\n",
      "----\n",
      "IterNodeResult(node=LeafNode(value=ProbabilityValue([0.03225806451612903, 0.967741935483871],n=124.0), idx=2), depth=2, tree_idx=1)\n",
      "1\n",
      "----\n",
      "IterNodeResult(node=LeafNode(value=ProbabilityValue([0.5232558139534884, 0.47674418604651164],n=86.0), idx=3), depth=2, tree_idx=1)\n",
      "1\n",
      "----\n"
     ]
    }
   ],
   "source": [
    "for node in model.make_inspector().iterate_on_nodes():\n",
    "    if node.tree_idx == 1:\n",
    "        print(node)\n",
    "        print(node.tree_idx)\n",
    "        print(\"----\")"
   ]
  },
  {
   "cell_type": "code",
   "execution_count": 25,
   "id": "f464e20b",
   "metadata": {},
   "outputs": [],
   "source": [
    "tree = model.make_inspector().extract_tree(tree_idx=1)"
   ]
  },
  {
   "cell_type": "code",
   "execution_count": 26,
   "id": "6eae3c5c",
   "metadata": {},
   "outputs": [
    {
     "name": "stdout",
     "output_type": "stream",
     "text": [
      "Tree(NonLeafNode(condition=(Sex_label in [1]; miss=False), pos_child=NonLeafNode(condition=(Pclass >= 2.5; miss=False), pos_child=LeafNode(value=ProbabilityValue([0.5402298850574713, 0.45977011494252873],n=87.0), idx=3), neg_child=LeafNode(value=ProbabilityValue([0.06299212598425197, 0.937007874015748],n=127.0), idx=2), value=ProbabilityValue([0.2570093457943925, 0.7429906542056075],n=214.0)), neg_child=NonLeafNode(condition=(Age >= 13.0; miss=True), pos_child=LeafNode(value=ProbabilityValue([0.8601583113456465, 0.13984168865435356],n=379.0), idx=1), neg_child=LeafNode(value=ProbabilityValue([0.3, 0.7],n=30.0), idx=0), value=ProbabilityValue([0.8190709046454768, 0.18092909535452323],n=409.0)), value=ProbabilityValue([0.6260032102728732, 0.3739967897271268],n=623.0)),label_classes={self.label_classes})\n"
     ]
    }
   ],
   "source": [
    "print(tree)"
   ]
  },
  {
   "cell_type": "code",
   "execution_count": 27,
   "id": "97ee70ad",
   "metadata": {},
   "outputs": [],
   "source": [
    "def get_nodes_info(root_node):\n",
    "    tree_nodes = defaultdict(lambda: None)\n",
    "    children_left = defaultdict(lambda: -1)\n",
    "    children_right = defaultdict(lambda: -1)\n",
    "    node_index = 0\n",
    "    \n",
    "    def recur(node, node_id):\n",
    "        nonlocal node_index\n",
    "        \n",
    "        tree_nodes[node_id] = node\n",
    "        \n",
    "        if isinstance(node, tensorflow_decision_forests.component.py_tree.node.LeafNode):\n",
    "            return\n",
    "        else:\n",
    "            node_index += 1\n",
    "            children_left[node_id] = node_index\n",
    "            recur(node.neg_child, node_index)\n",
    "            \n",
    "            node_index += 1\n",
    "            children_right[node_id] = node_index\n",
    "            recur(node.pos_child, node_index)\n",
    "    \n",
    "    recur(root_node, 0)\n",
    "    \n",
    "    return tree_nodes, children_left, children_right\n",
    "    "
   ]
  },
  {
   "cell_type": "code",
   "execution_count": 314,
   "id": "2d45df04",
   "metadata": {},
   "outputs": [],
   "source": [
    "tree_nodes, children_left, children_right = get_nodes_info(tree.root)"
   ]
  },
  {
   "cell_type": "code",
   "execution_count": 315,
   "id": "c406aa9e",
   "metadata": {},
   "outputs": [
    {
     "data": {
      "text/plain": [
       "defaultdict(<function __main__.get_nodes_info.<locals>.<lambda>()>,\n",
       "            {0: 1, 1: 2, 4: 5})"
      ]
     },
     "execution_count": 315,
     "metadata": {},
     "output_type": "execute_result"
    }
   ],
   "source": [
    "children_left"
   ]
  },
  {
   "cell_type": "code",
   "execution_count": 316,
   "id": "a2d722a5",
   "metadata": {},
   "outputs": [
    {
     "data": {
      "text/plain": [
       "defaultdict(<function __main__.get_nodes_info.<locals>.<lambda>()>,\n",
       "            {1: 3, 0: 4, 4: 6})"
      ]
     },
     "execution_count": 316,
     "metadata": {},
     "output_type": "execute_result"
    }
   ],
   "source": [
    "children_right"
   ]
  },
  {
   "cell_type": "code",
   "execution_count": 317,
   "id": "e279f50c",
   "metadata": {},
   "outputs": [
    {
     "data": {
      "text/plain": [
       "defaultdict(<function __main__.get_nodes_info.<locals>.<lambda>()>,\n",
       "            {0: NonLeafNode(condition=(Sex_label in [1]; miss=False), pos_child=NonLeafNode(condition=(Pclass >= 2.5; miss=False), pos_child=LeafNode(value=ProbabilityValue([0.5232558139534884, 0.47674418604651164],n=86.0), idx=3), neg_child=LeafNode(value=ProbabilityValue([0.03225806451612903, 0.967741935483871],n=124.0), idx=2), value=ProbabilityValue([0.23333333333333334, 0.7666666666666667],n=210.0)), neg_child=NonLeafNode(condition=(Fare >= 26.268749237060547; miss=True), pos_child=LeafNode(value=ProbabilityValue([0.6120689655172413, 0.3879310344827586],n=116.0), idx=1), neg_child=LeafNode(value=ProbabilityValue([0.8720538720538721, 0.12794612794612795],n=297.0), idx=0), value=ProbabilityValue([0.7990314769975787, 0.2009685230024213],n=413.0)), value=ProbabilityValue([0.608346709470305, 0.391653290529695],n=623.0)),\n",
       "             1: NonLeafNode(condition=(Fare >= 26.268749237060547; miss=True), pos_child=LeafNode(value=ProbabilityValue([0.6120689655172413, 0.3879310344827586],n=116.0), idx=1), neg_child=LeafNode(value=ProbabilityValue([0.8720538720538721, 0.12794612794612795],n=297.0), idx=0), value=ProbabilityValue([0.7990314769975787, 0.2009685230024213],n=413.0)),\n",
       "             2: LeafNode(value=ProbabilityValue([0.8720538720538721, 0.12794612794612795],n=297.0), idx=0),\n",
       "             3: LeafNode(value=ProbabilityValue([0.6120689655172413, 0.3879310344827586],n=116.0), idx=1),\n",
       "             4: NonLeafNode(condition=(Pclass >= 2.5; miss=False), pos_child=LeafNode(value=ProbabilityValue([0.5232558139534884, 0.47674418604651164],n=86.0), idx=3), neg_child=LeafNode(value=ProbabilityValue([0.03225806451612903, 0.967741935483871],n=124.0), idx=2), value=ProbabilityValue([0.23333333333333334, 0.7666666666666667],n=210.0)),\n",
       "             5: LeafNode(value=ProbabilityValue([0.03225806451612903, 0.967741935483871],n=124.0), idx=2),\n",
       "             6: LeafNode(value=ProbabilityValue([0.5232558139534884, 0.47674418604651164],n=86.0), idx=3)})"
      ]
     },
     "execution_count": 317,
     "metadata": {},
     "output_type": "execute_result"
    }
   ],
   "source": [
    "tree_nodes"
   ]
  },
  {
   "cell_type": "markdown",
   "id": "3aee1317",
   "metadata": {},
   "source": [
    "### Save the model"
   ]
  },
  {
   "cell_type": "code",
   "execution_count": 59,
   "id": "b2eb821b",
   "metadata": {},
   "outputs": [],
   "source": [
    "from tensorflow.keras.models import Model"
   ]
  },
  {
   "cell_type": "code",
   "execution_count": 57,
   "id": "eaee7d43",
   "metadata": {
    "scrolled": false
   },
   "outputs": [
    {
     "name": "stderr",
     "output_type": "stream",
     "text": [
      "WARNING:absl:Function `_wrapped_model` contains input name(s) Age, Cabin_label, Embarked_label, Fare, Pclass, Sex_label with unsupported characters which will be renamed to age, cabin_label, embarked_label, fare, pclass, sex_label in the SavedModel.\n",
      "WARNING:absl:Found untraced functions such as call_get_leaves while saving (showing 1 of 1). These functions will not be directly callable after loading.\n"
     ]
    },
    {
     "name": "stdout",
     "output_type": "stream",
     "text": [
      "INFO:tensorflow:Assets written to: /Users/tudor.lapusan/Documents/workspace/personal/dtreeviz/testing/testlib/models/fixtures/tfdf_classifier/assets\n"
     ]
    },
    {
     "name": "stderr",
     "output_type": "stream",
     "text": [
      "INFO:tensorflow:Assets written to: /Users/tudor.lapusan/Documents/workspace/personal/dtreeviz/testing/testlib/models/fixtures/tfdf_classifier/assets\n"
     ]
    }
   ],
   "source": [
    "model.save(\"/Users/tudor.lapusan/Documents/workspace/personal/dtreeviz/testing/testlib/models/fixtures/tfdf_classifier\")\n"
   ]
  },
  {
   "cell_type": "code",
   "execution_count": 18,
   "id": "5462c438",
   "metadata": {},
   "outputs": [],
   "source": [
    "import tensorflow"
   ]
  },
  {
   "cell_type": "code",
   "execution_count": 19,
   "id": "b1320507",
   "metadata": {},
   "outputs": [],
   "source": [
    "model2 = tensorflow.keras.models.load_model(\"/Users/tudor.lapusan/Documents/workspace/personal/dtreeviz/testing/testlib/models/fixtures/tfdf_classifier_0.2.4\")\n"
   ]
  },
  {
   "cell_type": "code",
   "execution_count": 34,
   "id": "e8a9f9cc",
   "metadata": {},
   "outputs": [
    {
     "ename": "ValueError",
     "evalue": "in user code:\n\n    File \"/Users/tudor.lapusan/Documents/workspace/personal/dtreeviz/venv/lib/python3.8/site-packages/keras/engine/training.py\", line 1801, in predict_function  *\n        return step_function(self, iterator)\n    File \"/Users/tudor.lapusan/Documents/workspace/personal/dtreeviz/venv/lib/python3.8/site-packages/keras/engine/training.py\", line 1790, in step_function  **\n        outputs = model.distribute_strategy.run(run_step, args=(data,))\n    File \"/Users/tudor.lapusan/Documents/workspace/personal/dtreeviz/venv/lib/python3.8/site-packages/keras/engine/training.py\", line 1783, in run_step  **\n        outputs = model.predict_step(data)\n    File \"/Users/tudor.lapusan/Documents/workspace/personal/dtreeviz/venv/lib/python3.8/site-packages/keras/engine/training.py\", line 1751, in predict_step\n        return self(x, training=False)\n    File \"/Users/tudor.lapusan/Documents/workspace/personal/dtreeviz/venv/lib/python3.8/site-packages/keras/utils/traceback_utils.py\", line 67, in error_handler\n        raise e.with_traceback(filtered_tb) from None\n\n    ValueError: Exception encountered when calling layer \"random_forest_model_1\" (type RandomForestModel).\n    \n    Could not find matching concrete function to call loaded from the SavedModel. Got:\n      Positional arguments (2 total):\n        * {'Pclass': <tf.Tensor 'inputs_4:0' shape=(None,) dtype=int64>, 'Age': <tf.Tensor 'inputs:0' shape=(None,) dtype=float32>, 'Fare': <tf.Tensor 'inputs_3:0' shape=(None,) dtype=float32>, 'Sex_label': <tf.Tensor 'inputs_5:0' shape=(None,) dtype=int8>, 'Cabin_label': <tf.Tensor 'inputs_1:0' shape=(None,) dtype=int16>, 'Embarked_label': <tf.Tensor 'inputs_2:0' shape=(None,) dtype=int8>}\n        * False\n      Keyword arguments: {}\n    \n     Expected these arguments to match one of the following 4 option(s):\n    \n    Option 1:\n      Positional arguments (2 total):\n        * {'Parch': TensorSpec(shape=(None,), dtype=tf.int64, name='inputs/Parch'), 'Embarked_label': TensorSpec(shape=(None,), dtype=tf.float32, name='inputs/Embarked_label'), 'Sex_label': TensorSpec(shape=(None,), dtype=tf.float32, name='inputs/Sex_label'), 'SibSp': TensorSpec(shape=(None,), dtype=tf.int64, name='inputs/SibSp'), 'Age_mean': TensorSpec(shape=(None,), dtype=tf.float32, name='inputs/Age_mean'), 'Fare': TensorSpec(shape=(None,), dtype=tf.float32, name='inputs/Fare'), 'Pclass': TensorSpec(shape=(None,), dtype=tf.int64, name='inputs/Pclass')}\n        * False\n      Keyword arguments: {}\n    \n    Option 2:\n      Positional arguments (2 total):\n        * {'Fare': TensorSpec(shape=(None,), dtype=tf.float32, name='inputs/Fare'), 'Parch': TensorSpec(shape=(None,), dtype=tf.int64, name='inputs/Parch'), 'SibSp': TensorSpec(shape=(None,), dtype=tf.int64, name='inputs/SibSp'), 'Embarked_label': TensorSpec(shape=(None,), dtype=tf.float32, name='inputs/Embarked_label'), 'Pclass': TensorSpec(shape=(None,), dtype=tf.int64, name='inputs/Pclass'), 'Age_mean': TensorSpec(shape=(None,), dtype=tf.float32, name='inputs/Age_mean'), 'Sex_label': TensorSpec(shape=(None,), dtype=tf.float32, name='inputs/Sex_label')}\n        * True\n      Keyword arguments: {}\n    \n    Option 3:\n      Positional arguments (2 total):\n        * {'Fare': TensorSpec(shape=(None,), dtype=tf.float32, name='Fare'), 'Pclass': TensorSpec(shape=(None,), dtype=tf.int64, name='Pclass'), 'SibSp': TensorSpec(shape=(None,), dtype=tf.int64, name='SibSp'), 'Sex_label': TensorSpec(shape=(None,), dtype=tf.float32, name='Sex_label'), 'Age_mean': TensorSpec(shape=(None,), dtype=tf.float32, name='Age_mean'), 'Parch': TensorSpec(shape=(None,), dtype=tf.int64, name='Parch'), 'Embarked_label': TensorSpec(shape=(None,), dtype=tf.float32, name='Embarked_label')}\n        * False\n      Keyword arguments: {}\n    \n    Option 4:\n      Positional arguments (2 total):\n        * {'Pclass': TensorSpec(shape=(None,), dtype=tf.int64, name='Pclass'), 'Fare': TensorSpec(shape=(None,), dtype=tf.float32, name='Fare'), 'Embarked_label': TensorSpec(shape=(None,), dtype=tf.float32, name='Embarked_label'), 'Parch': TensorSpec(shape=(None,), dtype=tf.int64, name='Parch'), 'Sex_label': TensorSpec(shape=(None,), dtype=tf.float32, name='Sex_label'), 'SibSp': TensorSpec(shape=(None,), dtype=tf.int64, name='SibSp'), 'Age_mean': TensorSpec(shape=(None,), dtype=tf.float32, name='Age_mean')}\n        * True\n      Keyword arguments: {}\n    \n    Call arguments received:\n      • args=({'Pclass': 'tf.Tensor(shape=(None,), dtype=int64)', 'Age': 'tf.Tensor(shape=(None,), dtype=float32)', 'Fare': 'tf.Tensor(shape=(None,), dtype=float32)', 'Sex_label': 'tf.Tensor(shape=(None,), dtype=int8)', 'Cabin_label': 'tf.Tensor(shape=(None,), dtype=int16)', 'Embarked_label': 'tf.Tensor(shape=(None,), dtype=int8)'},)\n      • kwargs={'training': 'False'}\n",
     "output_type": "error",
     "traceback": [
      "\u001b[0;31m---------------------------------------------------------------------------\u001b[0m",
      "\u001b[0;31mValueError\u001b[0m                                Traceback (most recent call last)",
      "\u001b[0;32m<ipython-input-34-d8cf2c29fb88>\u001b[0m in \u001b[0;36m<module>\u001b[0;34m\u001b[0m\n\u001b[0;32m----> 1\u001b[0;31m \u001b[0mmodel2\u001b[0m\u001b[0;34m.\u001b[0m\u001b[0mpredict\u001b[0m\u001b[0;34m(\u001b[0m\u001b[0mtest_ds\u001b[0m\u001b[0;34m)\u001b[0m\u001b[0;34m\u001b[0m\u001b[0;34m\u001b[0m\u001b[0m\n\u001b[0m",
      "\u001b[0;32m~/Documents/workspace/personal/dtreeviz/venv/lib/python3.8/site-packages/keras/utils/traceback_utils.py\u001b[0m in \u001b[0;36merror_handler\u001b[0;34m(*args, **kwargs)\u001b[0m\n\u001b[1;32m     65\u001b[0m     \u001b[0;32mexcept\u001b[0m \u001b[0mException\u001b[0m \u001b[0;32mas\u001b[0m \u001b[0me\u001b[0m\u001b[0;34m:\u001b[0m  \u001b[0;31m# pylint: disable=broad-except\u001b[0m\u001b[0;34m\u001b[0m\u001b[0;34m\u001b[0m\u001b[0m\n\u001b[1;32m     66\u001b[0m       \u001b[0mfiltered_tb\u001b[0m \u001b[0;34m=\u001b[0m \u001b[0m_process_traceback_frames\u001b[0m\u001b[0;34m(\u001b[0m\u001b[0me\u001b[0m\u001b[0;34m.\u001b[0m\u001b[0m__traceback__\u001b[0m\u001b[0;34m)\u001b[0m\u001b[0;34m\u001b[0m\u001b[0;34m\u001b[0m\u001b[0m\n\u001b[0;32m---> 67\u001b[0;31m       \u001b[0;32mraise\u001b[0m \u001b[0me\u001b[0m\u001b[0;34m.\u001b[0m\u001b[0mwith_traceback\u001b[0m\u001b[0;34m(\u001b[0m\u001b[0mfiltered_tb\u001b[0m\u001b[0;34m)\u001b[0m \u001b[0;32mfrom\u001b[0m \u001b[0;32mNone\u001b[0m\u001b[0;34m\u001b[0m\u001b[0;34m\u001b[0m\u001b[0m\n\u001b[0m\u001b[1;32m     68\u001b[0m     \u001b[0;32mfinally\u001b[0m\u001b[0;34m:\u001b[0m\u001b[0;34m\u001b[0m\u001b[0;34m\u001b[0m\u001b[0m\n\u001b[1;32m     69\u001b[0m       \u001b[0;32mdel\u001b[0m \u001b[0mfiltered_tb\u001b[0m\u001b[0;34m\u001b[0m\u001b[0;34m\u001b[0m\u001b[0m\n",
      "\u001b[0;32m~/Documents/workspace/personal/dtreeviz/venv/lib/python3.8/site-packages/tensorflow/python/framework/func_graph.py\u001b[0m in \u001b[0;36mautograph_handler\u001b[0;34m(*args, **kwargs)\u001b[0m\n\u001b[1;32m   1145\u001b[0m           \u001b[0;32mexcept\u001b[0m \u001b[0mException\u001b[0m \u001b[0;32mas\u001b[0m \u001b[0me\u001b[0m\u001b[0;34m:\u001b[0m  \u001b[0;31m# pylint:disable=broad-except\u001b[0m\u001b[0;34m\u001b[0m\u001b[0;34m\u001b[0m\u001b[0m\n\u001b[1;32m   1146\u001b[0m             \u001b[0;32mif\u001b[0m \u001b[0mhasattr\u001b[0m\u001b[0;34m(\u001b[0m\u001b[0me\u001b[0m\u001b[0;34m,\u001b[0m \u001b[0;34m\"ag_error_metadata\"\u001b[0m\u001b[0;34m)\u001b[0m\u001b[0;34m:\u001b[0m\u001b[0;34m\u001b[0m\u001b[0;34m\u001b[0m\u001b[0m\n\u001b[0;32m-> 1147\u001b[0;31m               \u001b[0;32mraise\u001b[0m \u001b[0me\u001b[0m\u001b[0;34m.\u001b[0m\u001b[0mag_error_metadata\u001b[0m\u001b[0;34m.\u001b[0m\u001b[0mto_exception\u001b[0m\u001b[0;34m(\u001b[0m\u001b[0me\u001b[0m\u001b[0;34m)\u001b[0m\u001b[0;34m\u001b[0m\u001b[0;34m\u001b[0m\u001b[0m\n\u001b[0m\u001b[1;32m   1148\u001b[0m             \u001b[0;32melse\u001b[0m\u001b[0;34m:\u001b[0m\u001b[0;34m\u001b[0m\u001b[0;34m\u001b[0m\u001b[0m\n\u001b[1;32m   1149\u001b[0m               \u001b[0;32mraise\u001b[0m\u001b[0;34m\u001b[0m\u001b[0;34m\u001b[0m\u001b[0m\n",
      "\u001b[0;31mValueError\u001b[0m: in user code:\n\n    File \"/Users/tudor.lapusan/Documents/workspace/personal/dtreeviz/venv/lib/python3.8/site-packages/keras/engine/training.py\", line 1801, in predict_function  *\n        return step_function(self, iterator)\n    File \"/Users/tudor.lapusan/Documents/workspace/personal/dtreeviz/venv/lib/python3.8/site-packages/keras/engine/training.py\", line 1790, in step_function  **\n        outputs = model.distribute_strategy.run(run_step, args=(data,))\n    File \"/Users/tudor.lapusan/Documents/workspace/personal/dtreeviz/venv/lib/python3.8/site-packages/keras/engine/training.py\", line 1783, in run_step  **\n        outputs = model.predict_step(data)\n    File \"/Users/tudor.lapusan/Documents/workspace/personal/dtreeviz/venv/lib/python3.8/site-packages/keras/engine/training.py\", line 1751, in predict_step\n        return self(x, training=False)\n    File \"/Users/tudor.lapusan/Documents/workspace/personal/dtreeviz/venv/lib/python3.8/site-packages/keras/utils/traceback_utils.py\", line 67, in error_handler\n        raise e.with_traceback(filtered_tb) from None\n\n    ValueError: Exception encountered when calling layer \"random_forest_model_1\" (type RandomForestModel).\n    \n    Could not find matching concrete function to call loaded from the SavedModel. Got:\n      Positional arguments (2 total):\n        * {'Pclass': <tf.Tensor 'inputs_4:0' shape=(None,) dtype=int64>, 'Age': <tf.Tensor 'inputs:0' shape=(None,) dtype=float32>, 'Fare': <tf.Tensor 'inputs_3:0' shape=(None,) dtype=float32>, 'Sex_label': <tf.Tensor 'inputs_5:0' shape=(None,) dtype=int8>, 'Cabin_label': <tf.Tensor 'inputs_1:0' shape=(None,) dtype=int16>, 'Embarked_label': <tf.Tensor 'inputs_2:0' shape=(None,) dtype=int8>}\n        * False\n      Keyword arguments: {}\n    \n     Expected these arguments to match one of the following 4 option(s):\n    \n    Option 1:\n      Positional arguments (2 total):\n        * {'Parch': TensorSpec(shape=(None,), dtype=tf.int64, name='inputs/Parch'), 'Embarked_label': TensorSpec(shape=(None,), dtype=tf.float32, name='inputs/Embarked_label'), 'Sex_label': TensorSpec(shape=(None,), dtype=tf.float32, name='inputs/Sex_label'), 'SibSp': TensorSpec(shape=(None,), dtype=tf.int64, name='inputs/SibSp'), 'Age_mean': TensorSpec(shape=(None,), dtype=tf.float32, name='inputs/Age_mean'), 'Fare': TensorSpec(shape=(None,), dtype=tf.float32, name='inputs/Fare'), 'Pclass': TensorSpec(shape=(None,), dtype=tf.int64, name='inputs/Pclass')}\n        * False\n      Keyword arguments: {}\n    \n    Option 2:\n      Positional arguments (2 total):\n        * {'Fare': TensorSpec(shape=(None,), dtype=tf.float32, name='inputs/Fare'), 'Parch': TensorSpec(shape=(None,), dtype=tf.int64, name='inputs/Parch'), 'SibSp': TensorSpec(shape=(None,), dtype=tf.int64, name='inputs/SibSp'), 'Embarked_label': TensorSpec(shape=(None,), dtype=tf.float32, name='inputs/Embarked_label'), 'Pclass': TensorSpec(shape=(None,), dtype=tf.int64, name='inputs/Pclass'), 'Age_mean': TensorSpec(shape=(None,), dtype=tf.float32, name='inputs/Age_mean'), 'Sex_label': TensorSpec(shape=(None,), dtype=tf.float32, name='inputs/Sex_label')}\n        * True\n      Keyword arguments: {}\n    \n    Option 3:\n      Positional arguments (2 total):\n        * {'Fare': TensorSpec(shape=(None,), dtype=tf.float32, name='Fare'), 'Pclass': TensorSpec(shape=(None,), dtype=tf.int64, name='Pclass'), 'SibSp': TensorSpec(shape=(None,), dtype=tf.int64, name='SibSp'), 'Sex_label': TensorSpec(shape=(None,), dtype=tf.float32, name='Sex_label'), 'Age_mean': TensorSpec(shape=(None,), dtype=tf.float32, name='Age_mean'), 'Parch': TensorSpec(shape=(None,), dtype=tf.int64, name='Parch'), 'Embarked_label': TensorSpec(shape=(None,), dtype=tf.float32, name='Embarked_label')}\n        * False\n      Keyword arguments: {}\n    \n    Option 4:\n      Positional arguments (2 total):\n        * {'Pclass': TensorSpec(shape=(None,), dtype=tf.int64, name='Pclass'), 'Fare': TensorSpec(shape=(None,), dtype=tf.float32, name='Fare'), 'Embarked_label': TensorSpec(shape=(None,), dtype=tf.float32, name='Embarked_label'), 'Parch': TensorSpec(shape=(None,), dtype=tf.int64, name='Parch'), 'Sex_label': TensorSpec(shape=(None,), dtype=tf.float32, name='Sex_label'), 'SibSp': TensorSpec(shape=(None,), dtype=tf.int64, name='SibSp'), 'Age_mean': TensorSpec(shape=(None,), dtype=tf.float32, name='Age_mean')}\n        * True\n      Keyword arguments: {}\n    \n    Call arguments received:\n      • args=({'Pclass': 'tf.Tensor(shape=(None,), dtype=int64)', 'Age': 'tf.Tensor(shape=(None,), dtype=float32)', 'Fare': 'tf.Tensor(shape=(None,), dtype=float32)', 'Sex_label': 'tf.Tensor(shape=(None,), dtype=int8)', 'Cabin_label': 'tf.Tensor(shape=(None,), dtype=int16)', 'Embarked_label': 'tf.Tensor(shape=(None,), dtype=int8)'},)\n      • kwargs={'training': 'False'}\n"
     ]
    }
   ],
   "source": [
    "model2.predict(test_ds)"
   ]
  },
  {
   "cell_type": "code",
   "execution_count": 66,
   "id": "ca9ecc86",
   "metadata": {},
   "outputs": [
    {
     "ename": "SyntaxError",
     "evalue": "invalid syntax (<ipython-input-66-4ee7f90b2e24>, line 1)",
     "output_type": "error",
     "traceback": [
      "\u001b[0;36m  File \u001b[0;32m\"<ipython-input-66-4ee7f90b2e24>\"\u001b[0;36m, line \u001b[0;32m1\u001b[0m\n\u001b[0;31m    model2.\u001b[0m\n\u001b[0m           ^\u001b[0m\n\u001b[0;31mSyntaxError\u001b[0m\u001b[0;31m:\u001b[0m invalid syntax\n"
     ]
    }
   ],
   "source": [
    "model2"
   ]
  },
  {
   "cell_type": "code",
   "execution_count": 51,
   "id": "77773932",
   "metadata": {},
   "outputs": [
    {
     "data": {
      "text/plain": [
       "tensorflow_decision_forests.keras.RandomForestModel"
      ]
     },
     "execution_count": 51,
     "metadata": {},
     "output_type": "execute_result"
    }
   ],
   "source": [
    "type(model)"
   ]
  },
  {
   "cell_type": "code",
   "execution_count": 55,
   "id": "67d3b183",
   "metadata": {},
   "outputs": [
    {
     "data": {
      "text/plain": [
       "keras.saving.saved_model.load.RandomForestModel"
      ]
     },
     "execution_count": 55,
     "metadata": {},
     "output_type": "execute_result"
    }
   ],
   "source": [
    "type(model2)"
   ]
  },
  {
   "cell_type": "code",
   "execution_count": 69,
   "id": "6e354f50",
   "metadata": {},
   "outputs": [],
   "source": [
    "from tensorflow_decision_forests.component.inspector import inspector as inspector_lib\n"
   ]
  },
  {
   "cell_type": "code",
   "execution_count": 80,
   "id": "c96e85d8",
   "metadata": {},
   "outputs": [],
   "source": [
    "insp = inspector_lib.make_inspector(\"/Users/tudor.lapusan/Documents/workspace/personal/dtreeviz/testing/testlib/models/fixtures/tfdf_classifier_0.2.4/assets\")\n"
   ]
  },
  {
   "cell_type": "code",
   "execution_count": 78,
   "id": "56505a64",
   "metadata": {},
   "outputs": [
    {
     "data": {
      "text/plain": [
       "<tensorflow_decision_forests.component.inspector.inspector._RandomForestInspector at 0x144692d30>"
      ]
     },
     "execution_count": 78,
     "metadata": {},
     "output_type": "execute_result"
    }
   ],
   "source": [
    "insp"
   ]
  },
  {
   "cell_type": "code",
   "execution_count": 76,
   "id": "1072f38b",
   "metadata": {},
   "outputs": [
    {
     "data": {
      "text/plain": [
       "Tree(NonLeafNode(condition=(Sex_label in [1]; miss=False), pos_child=NonLeafNode(condition=(Pclass >= 2.5; miss=False), pos_child=LeafNode(value=ProbabilityValue([0.6, 0.4],n=105.0), idx=3), neg_child=LeafNode(value=ProbabilityValue([0.06837606837606838, 0.9316239316239316],n=117.0), idx=2), value=ProbabilityValue([0.31981981981981983, 0.6801801801801802],n=222.0)), neg_child=NonLeafNode(condition=(Age >= 9.5; miss=True), pos_child=LeafNode(value=ProbabilityValue([0.8337801608579088, 0.16621983914209115],n=373.0), idx=1), neg_child=LeafNode(value=ProbabilityValue([0.4642857142857143, 0.5357142857142857],n=28.0), idx=0), value=ProbabilityValue([0.8079800498753117, 0.19201995012468828],n=401.0)), value=ProbabilityValue([0.6340288924558587, 0.36597110754414125],n=623.0)),label_classes={self.label_classes})"
      ]
     },
     "execution_count": 76,
     "metadata": {},
     "output_type": "execute_result"
    }
   ],
   "source": [
    "insp.extract_tree(tree_idx=1)"
   ]
  },
  {
   "cell_type": "code",
   "execution_count": 77,
   "id": "f244a778",
   "metadata": {},
   "outputs": [
    {
     "data": {
      "text/plain": [
       "'0.2.4'"
      ]
     },
     "execution_count": 77,
     "metadata": {},
     "output_type": "execute_result"
    }
   ],
   "source": [
    "tensorflow_decision_forests.__version__"
   ]
  },
  {
   "cell_type": "markdown",
   "id": "9ebb2e90",
   "metadata": {},
   "source": [
    "## dtreeviz - model interpretation"
   ]
  },
  {
   "cell_type": "code",
   "execution_count": 10,
   "id": "a62664d8",
   "metadata": {},
   "outputs": [],
   "source": [
    "tfdf_shadow = ShadowTFDFTree(model, tree_index=1, \n",
    "                             x_data=train[features], \n",
    "                             y_data=train[target], \n",
    "                             feature_names=features, \n",
    "                             target_name=target,\n",
    "                             class_names=[0, 1])"
   ]
  },
  {
   "cell_type": "code",
   "execution_count": 11,
   "id": "4eba8299",
   "metadata": {},
   "outputs": [
    {
     "data": {
      "text/plain": [
       "defaultdict(<function dtreeviz.models.tfdf_decision_tree.ShadowTFDFTree._get_nodes_info.<locals>.<lambda>()>,\n",
       "            {0: 1, 1: 2, 4: 5, 2: -1, 3: -1, 5: -1, 6: -1})"
      ]
     },
     "execution_count": 11,
     "metadata": {},
     "output_type": "execute_result"
    }
   ],
   "source": [
    "tfdf_shadow.children_left"
   ]
  },
  {
   "cell_type": "code",
   "execution_count": null,
   "id": "ada50565",
   "metadata": {},
   "outputs": [],
   "source": []
  },
  {
   "cell_type": "markdown",
   "id": "820fe4d2",
   "metadata": {},
   "source": [
    "# Unit tests\n",
    "This section was using during development phase and unit testing"
   ]
  },
  {
   "cell_type": "code",
   "execution_count": 12,
   "id": "a0438b6f",
   "metadata": {},
   "outputs": [],
   "source": [
    "from tensorflow_decision_forests.component.inspector import inspector as inspector_lib\n"
   ]
  },
  {
   "cell_type": "code",
   "execution_count": 40,
   "id": "2b611c26",
   "metadata": {},
   "outputs": [],
   "source": [
    "random_state = 1234\n",
    "dataset = pd.read_csv(\"../testing/testlib/models/fixtures/dataset_spark_tf.csv\")\n",
    "features_clf = [\"Pclass\",\"Sex_label\",\"Embarked_label\", \"Age_mean\",\"SibSp\",\"Parch\",\"Fare\"]\n",
    "target_clf = \"Survived\""
   ]
  },
  {
   "cell_type": "code",
   "execution_count": 4,
   "id": "6c8f937b",
   "metadata": {},
   "outputs": [],
   "source": [
    "train_clf = tfdf.keras.pd_dataframe_to_tf_dataset(dataset, label=target_clf)\n",
    "model_clf = tfdf.keras.RandomForestModel(max_depth=3, random_seed = random_state)\n",
    "model_clf.fit(train_clf)"
   ]
  },
  {
   "cell_type": "code",
   "execution_count": 7,
   "id": "3bf7dc51",
   "metadata": {
    "scrolled": true
   },
   "outputs": [
    {
     "name": "stdout",
     "output_type": "stream",
     "text": [
      "\n",
      "<script src=\"https://d3js.org/d3.v6.min.js\"></script>\n",
      "<div id=\"tree_plot_a56ec324d1604f218f105dc50d6aa3ca\"></div>\n",
      "<script>\n",
      "/*\n",
      " * Copyright 2021 Google LLC.\n",
      " * Licensed under the Apache License, Version 2.0 (the \"License\");\n",
      " * you may not use this file except in compliance with the License.\n",
      " * You may obtain a copy of the License at\n",
      " *\n",
      " *     https://www.apache.org/licenses/LICENSE-2.0\n",
      " *\n",
      " * Unless required by applicable law or agreed to in writing, software\n",
      " * distributed under the License is distributed on an \"AS IS\" BASIS,\n",
      " * WITHOUT WARRANTIES OR CONDITIONS OF ANY KIND, either express or implied.\n",
      " * See the License for the specific language governing permissions and\n",
      " * limitations under the License.\n",
      " */\n",
      "\n",
      "/**\n",
      " *  Plotting of decision trees generated by TF-DF.\n",
      " *\n",
      " *  A tree is a recursive structure of node objects.\n",
      " *  A node contains one or more of the following components:\n",
      " *\n",
      " *    - A value: Representing the output of the node. If the node is not a leaf,\n",
      " *      the value is only present for analysis i.e. it is not used for\n",
      " *      predictions.\n",
      " *\n",
      " *    - A condition : For non-leaf nodes, the condition (also known as split)\n",
      " *      defines a binary test to branch to the positive or negative child.\n",
      " *\n",
      " *    - An explanation: Generally a plot showing the relation between the label\n",
      " *      and the condition to give insights about the effect of the condition.\n",
      " *\n",
      " *    - Two children : For non-leaf nodes, the children nodes. The first\n",
      " *      children (i.e. \"node.children[0]\") is the negative children (drawn in\n",
      " *      red). The second children is the positive one (drawn in green).\n",
      " *\n",
      " */\n",
      "\n",
      "/**\n",
      " * Plots a single decision tree into a DOM element.\n",
      " * @param {!options} options Dictionary of configurations.\n",
      " * @param {!tree} raw_tree Recursive tree structure.\n",
      " * @param {string} canvas_id Id of the output dom element.\n",
      " */\n",
      "function display_tree(options, raw_tree, canvas_id) {\n",
      "  console.log(options);\n",
      "\n",
      "  // Determine the node placement.\n",
      "  const tree_struct = d3.tree().nodeSize(\n",
      "      [options.node_y_offset, options.node_x_offset])(d3.hierarchy(raw_tree));\n",
      "\n",
      "  // Boundaries of the node placement.\n",
      "  let x_min = Infinity;\n",
      "  let x_max = -x_min;\n",
      "  let y_min = Infinity;\n",
      "  let y_max = -x_min;\n",
      "\n",
      "  tree_struct.each(d => {\n",
      "    if (d.x > x_max) x_max = d.x;\n",
      "    if (d.x < x_min) x_min = d.x;\n",
      "    if (d.y > y_max) y_max = d.y;\n",
      "    if (d.y < y_min) y_min = d.y;\n",
      "  });\n",
      "\n",
      "  // Size of the plot.\n",
      "  const width = y_max - y_min + options.node_x_size + options.margin * 2;\n",
      "  const height = x_max - x_min + options.node_y_size + options.margin * 2 +\n",
      "      options.node_y_offset - options.node_y_size;\n",
      "\n",
      "  const plot = d3.select(canvas_id);\n",
      "\n",
      "  // Tool tip\n",
      "  options.tooltip = plot.append('div')\n",
      "                        .attr('width', 100)\n",
      "                        .attr('height', 100)\n",
      "                        .style('padding', '4px')\n",
      "                        .style('background', '#fff')\n",
      "                        .style('box-shadow', '4px 4px 0px rgba(0,0,0,0.1)')\n",
      "                        .style('border', '1px solid black')\n",
      "                        .style('font-family', 'sans-serif')\n",
      "                        .style('font-size', options.font_size)\n",
      "                        .style('position', 'absolute')\n",
      "                        .style('z-index', '10')\n",
      "                        .attr('pointer-events', 'none')\n",
      "                        .style('display', 'none');\n",
      "\n",
      "  // Create canvas\n",
      "  const svg = plot.append('svg').attr('width', width).attr('height', height);\n",
      "  const graph =\n",
      "      svg.style('overflow', 'visible')\n",
      "          .append('g')\n",
      "          .attr('font-family', 'sans-serif')\n",
      "          .attr('font-size', options.font_size)\n",
      "          .attr(\n",
      "              'transform',\n",
      "              () => `translate(${options.margin},${\n",
      "                  - x_min + options.node_y_offset / 2 + options.margin})`);\n",
      "\n",
      "  // Plot bounding box.\n",
      "  if (options.show_plot_bounding_box) {\n",
      "    svg.append('rect')\n",
      "        .attr('width', width)\n",
      "        .attr('height', height)\n",
      "        .attr('fill', 'none')\n",
      "        .attr('stroke-width', 1.0)\n",
      "        .attr('stroke', 'black');\n",
      "  }\n",
      "\n",
      "  // Draw the edges.\n",
      "  display_edges(options, graph, tree_struct);\n",
      "\n",
      "  // Draw the nodes.\n",
      "  display_nodes(options, graph, tree_struct);\n",
      "}\n",
      "\n",
      "/**\n",
      " * Draw the nodes of the tree.\n",
      " * @param {!options} options Dictionary of configurations.\n",
      " * @param {!graph} graph D3 search handle containing the graph.\n",
      " * @param {!tree_struct} tree_struct Structure of the tree (node placement,\n",
      " *     data, etc.).\n",
      " */\n",
      "function display_nodes(options, graph, tree_struct) {\n",
      "  const nodes = graph.append('g')\n",
      "                    .selectAll('g')\n",
      "                    .data(tree_struct.descendants())\n",
      "                    .join('g')\n",
      "                    .attr('transform', d => `translate(${d.y},${d.x})`);\n",
      "\n",
      "  nodes.append('rect')\n",
      "      .attr('x', 0.5)\n",
      "      .attr('y', 0.5)\n",
      "      .attr('width', options.node_x_size)\n",
      "      .attr('height', options.node_y_size)\n",
      "      .attr('stroke', 'lightgrey')\n",
      "      .attr('stroke-width', 1)\n",
      "      .attr('fill', 'white')\n",
      "      .attr('y', -options.node_y_size / 2);\n",
      "\n",
      "  // Brackets on the right of condition nodes without children.\n",
      "  non_leaf_node_without_children =\n",
      "      nodes.filter(node => node.data.condition != null && node.children == null)\n",
      "          .append('g')\n",
      "          .attr('transform', `translate(${options.node_x_size},0)`);\n",
      "\n",
      "  non_leaf_node_without_children.append('path')\n",
      "      .attr('d', 'M0,0 C 10,0 0,10 10,10')\n",
      "      .attr('fill', 'none')\n",
      "      .attr('stroke-width', 1.0)\n",
      "      .attr('stroke', '#F00');\n",
      "\n",
      "  non_leaf_node_without_children.append('path')\n",
      "      .attr('d', 'M0,0 C 10,0 0,-10 10,-10')\n",
      "      .attr('fill', 'none')\n",
      "      .attr('stroke-width', 1.0)\n",
      "      .attr('stroke', '#0F0');\n",
      "\n",
      "  const node_content = nodes.append('g').attr(\n",
      "      'transform',\n",
      "      `translate(0,${options.node_padding - options.node_y_size / 2})`);\n",
      "\n",
      "  node_content.append(node => create_node_element(options, node));\n",
      "}\n",
      "\n",
      "/**\n",
      " * Creates the D3 content for a single node.\n",
      " * @param {!options} options Dictionary of configurations.\n",
      " * @param {!node} node Node to draw.\n",
      " * @return {!d3} D3 content.\n",
      " */\n",
      "function create_node_element(options, node) {\n",
      "  // Output accumulator.\n",
      "  let output = {\n",
      "    // Content to draw.\n",
      "    content: d3.create('svg:g'),\n",
      "    // Vertical offset to the next element to draw.\n",
      "    vertical_offset: 0\n",
      "  };\n",
      "\n",
      "  // Conditions.\n",
      "  if (node.data.condition != null) {\n",
      "    display_condition(options, node.data.condition, output);\n",
      "  }\n",
      "\n",
      "  // Values.\n",
      "  if (node.data.value != null) {\n",
      "    display_value(options, node.data.value, output);\n",
      "  }\n",
      "\n",
      "  // Explanations.\n",
      "  if (node.data.explanation != null) {\n",
      "    display_explanation(options, node.data.explanation, output);\n",
      "  }\n",
      "\n",
      "  return output.content.node();\n",
      "}\n",
      "\n",
      "\n",
      "/**\n",
      " * Adds a single line of text inside of a node.\n",
      " * @param {!options} options Dictionary of configurations.\n",
      " * @param {string} text Text to display.\n",
      " * @param {!output} output Output display accumulator.\n",
      " */\n",
      "function display_node_text(options, text, output) {\n",
      "  output.content.append('text')\n",
      "      .attr('x', options.node_padding)\n",
      "      .attr('y', output.vertical_offset)\n",
      "      .attr('alignment-baseline', 'hanging')\n",
      "      .text(text);\n",
      "  output.vertical_offset += 10;\n",
      "}\n",
      "\n",
      "/**\n",
      " * Adds a single line of text inside of a node with a tooltip.\n",
      " * @param {!options} options Dictionary of configurations.\n",
      " * @param {string} text Text to display.\n",
      " * @param {string} tooltip Text in the Tooltip.\n",
      " * @param {!output} output Output display accumulator.\n",
      " */\n",
      "function display_node_text_with_tooltip(options, text, tooltip, output) {\n",
      "  const item = output.content.append('text')\n",
      "                   .attr('x', options.node_padding)\n",
      "                   .attr('alignment-baseline', 'hanging')\n",
      "                   .text(text);\n",
      "\n",
      "  add_tooltip(options, item, () => tooltip);\n",
      "  output.vertical_offset += 10;\n",
      "}\n",
      "\n",
      "/**\n",
      " * Adds a tooltip to a dom element.\n",
      " * @param {!options} options Dictionary of configurations.\n",
      " * @param {!dom} target Dom element to equip with a tooltip.\n",
      " * @param {!func} get_content Generates the html content of the tooltip.\n",
      " */\n",
      "function add_tooltip(options, target, get_content) {\n",
      "  function show(d) {\n",
      "    options.tooltip.style('display', 'block');\n",
      "    options.tooltip.html(get_content());\n",
      "  }\n",
      "\n",
      "  function hide(d) {\n",
      "    options.tooltip.style('display', 'none');\n",
      "  }\n",
      "\n",
      "  function move(d) {\n",
      "    options.tooltip.style('display', 'block');\n",
      "    options.tooltip.style('left', (d.pageX + 5) + 'px');\n",
      "    options.tooltip.style('top', d.pageY + 'px');\n",
      "  }\n",
      "\n",
      "  target.on('mouseover', show);\n",
      "  target.on('mouseout', hide);\n",
      "  target.on('mousemove', move);\n",
      "}\n",
      "\n",
      "/**\n",
      " * Adds a condition inside of a node.\n",
      " * @param {!options} options Dictionary of configurations.\n",
      " * @param {!condition} condition Condition to display.\n",
      " * @param {!output} output Output display accumulator.\n",
      " */\n",
      "function display_condition(options, condition, output) {\n",
      "  threshold_format = d3.format('r');\n",
      "\n",
      "  if (condition.type === 'IS_MISSING') {\n",
      "    display_node_text(options, `${condition.attribute} is missing`, output);\n",
      "    return;\n",
      "  }\n",
      "\n",
      "  if (condition.type === 'IS_TRUE') {\n",
      "    display_node_text(options, `${condition.attribute} is true`, output);\n",
      "    return;\n",
      "  }\n",
      "\n",
      "  if (condition.type === 'NUMERICAL_IS_HIGHER_THAN') {\n",
      "    format = d3.format('r');\n",
      "    display_node_text(\n",
      "        options,\n",
      "        `${condition.attribute} >= ${threshold_format(condition.threshold)}`,\n",
      "        output);\n",
      "    return;\n",
      "  }\n",
      "\n",
      "  if (condition.type === 'CATEGORICAL_IS_IN') {\n",
      "    display_node_text_with_tooltip(\n",
      "        options, `${condition.attribute} in [...]`,\n",
      "        `${condition.attribute} in [${condition.mask}]`, output);\n",
      "    return;\n",
      "  }\n",
      "\n",
      "  if (condition.type === 'CATEGORICAL_SET_CONTAINS') {\n",
      "    display_node_text_with_tooltip(\n",
      "        options, `${condition.attribute} intersect [...]`,\n",
      "        `${condition.attribute} intersect [${condition.mask}]`, output);\n",
      "    return;\n",
      "  }\n",
      "\n",
      "  if (condition.type === 'NUMERICAL_SPARSE_OBLIQUE') {\n",
      "    display_node_text_with_tooltip(\n",
      "        options, `Sparse oblique split...`,\n",
      "        `[${condition.attributes}]*[${condition.weights}]>=${\n",
      "            threshold_format(condition.threshold)}`,\n",
      "        output);\n",
      "    return;\n",
      "  }\n",
      "\n",
      "  display_node_text(\n",
      "      options, `Non supported condition ${condition.type}`, output);\n",
      "}\n",
      "\n",
      "/**\n",
      " * Adds a value inside of a node.\n",
      " * @param {!options} options Dictionary of configurations.\n",
      " * @param {!value} value Value to display.\n",
      " * @param {!output} output Output display accumulator.\n",
      " */\n",
      "function display_value(options, value, output) {\n",
      "  if (value.type === 'PROBABILITY') {\n",
      "    const left_margin = 0;\n",
      "    const right_margin = 50;\n",
      "    const plot_width = options.node_x_size - options.node_padding * 2 -\n",
      "        left_margin - right_margin;\n",
      "\n",
      "    let cusum = Array.from(d3.cumsum(value.distribution));\n",
      "    cusum.unshift(0);\n",
      "    const distribution_plot = output.content.append('g').attr(\n",
      "        'transform', `translate(0,${output.vertical_offset + 0.5})`);\n",
      "\n",
      "    distribution_plot.selectAll('rect')\n",
      "        .data(value.distribution)\n",
      "        .join('rect')\n",
      "        .attr('height', 10)\n",
      "        .attr(\n",
      "            'x',\n",
      "            (d, i) =>\n",
      "                (cusum[i] * plot_width + left_margin + options.node_padding))\n",
      "        .attr('width', (d, i) => d * plot_width)\n",
      "        .style('fill', (d, i) => d3.schemeSet1[i]);\n",
      "\n",
      "    const num_examples =\n",
      "        output.content.append('g')\n",
      "            .attr('transform', `translate(0,${output.vertical_offset})`)\n",
      "            .append('text')\n",
      "            .attr('x', options.node_x_size - options.node_padding)\n",
      "            .attr('alignment-baseline', 'hanging')\n",
      "            .attr('text-anchor', 'end')\n",
      "            .text(`(${value.num_examples})`);\n",
      "\n",
      "    const distribution_details = d3.create('ul');\n",
      "    distribution_details.selectAll('li')\n",
      "        .data(value.distribution)\n",
      "        .join('li')\n",
      "        .append('span')\n",
      "        .text(\n",
      "            (d, i) =>\n",
      "                'class ' + i + ': ' + d3.format('.3%')(value.distribution[i]));\n",
      "\n",
      "    add_tooltip(options, distribution_plot, () => distribution_details.html());\n",
      "    add_tooltip(options, num_examples, () => 'Number of examples');\n",
      "\n",
      "    output.vertical_offset += 10;\n",
      "    return;\n",
      "  }\n",
      "\n",
      "  if (value.type === 'REGRESSION') {\n",
      "    display_node_text(\n",
      "        options,\n",
      "        'value: ' + d3.format('r')(value.value) + ` (` +\n",
      "            d3.format('.6')(value.num_examples) + `)`,\n",
      "        output);\n",
      "    return;\n",
      "  }\n",
      "\n",
      "  display_node_text(options, `Non supported value ${value.type}`, output);\n",
      "}\n",
      "\n",
      "/**\n",
      " * Adds an explanation inside of a node.\n",
      " * @param {!options} options Dictionary of configurations.\n",
      " * @param {!explanation} explanation Explanation to display.\n",
      " * @param {!output} output Output display accumulator.\n",
      " */\n",
      "function display_explanation(options, explanation, output) {\n",
      "  // Margin before the explanation.\n",
      "  output.vertical_offset += 10;\n",
      "\n",
      "  display_node_text(\n",
      "      options, `Non supported explanation ${explanation.type}`, output);\n",
      "}\n",
      "\n",
      "\n",
      "/**\n",
      " * Draw the edges of the tree.\n",
      " * @param {!options} options Dictionary of configurations.\n",
      " * @param {!graph} graph D3 search handle containing the graph.\n",
      " * @param {!tree_struct} tree_struct Structure of the tree (node placement,\n",
      " *     data, etc.).\n",
      " */\n",
      "function display_edges(options, graph, tree_struct) {\n",
      "  // Draw an edge between a parent and a child node with a bezier.\n",
      "  function draw_single_edge(d) {\n",
      "    return 'M' + (d.source.y + options.node_x_size) + ',' + d.source.x + ' C' +\n",
      "        (d.source.y + options.node_x_size + options.edge_rounding) + ',' +\n",
      "        d.source.x + ' ' + (d.target.y - options.edge_rounding) + ',' +\n",
      "        d.target.x + ' ' + d.target.y + ',' + d.target.x;\n",
      "  }\n",
      "\n",
      "  graph.append('g')\n",
      "      .attr('fill', 'none')\n",
      "      .attr('stroke-width', 1.2)\n",
      "      .selectAll('path')\n",
      "      .data(tree_struct.links())\n",
      "      .join('path')\n",
      "      .attr('d', draw_single_edge)\n",
      "      .attr(\n",
      "          'stroke', d => (d.target === d.source.children[0]) ? '#0F0' : '#F00');\n",
      "}\n",
      "\n",
      "display_tree({\"margin\": 10, \"node_x_size\": 160, \"node_y_size\": 28, \"node_x_offset\": 180, \"node_y_offset\": 33, \"font_size\": 10, \"edge_rounding\": 20, \"node_padding\": 2, \"show_plot_bounding_box\": false}, {\"value\": {\"type\": \"PROBABILITY\", \"distribution\": [0.5824915824915825, 0.4175084175084175], \"num_examples\": 891.0}, \"condition\": {\"type\": \"NUMERICAL_IS_HIGHER_THAN\", \"attribute\": \"Sex_label\", \"threshold\": 0.5}, \"children\": [{\"value\": {\"type\": \"PROBABILITY\", \"distribution\": [0.2195845697329377, 0.7804154302670623], \"num_examples\": 337.0}, \"condition\": {\"type\": \"NUMERICAL_IS_HIGHER_THAN\", \"attribute\": \"Parch\", \"threshold\": 2.5}, \"children\": [{\"value\": {\"type\": \"PROBABILITY\", \"distribution\": [0.875, 0.125], \"num_examples\": 16.0}}, {\"value\": {\"type\": \"PROBABILITY\", \"distribution\": [0.18691588785046728, 0.8130841121495327], \"num_examples\": 321.0}}]}, {\"value\": {\"type\": \"PROBABILITY\", \"distribution\": [0.8032490974729242, 0.1967509025270758], \"num_examples\": 554.0}, \"condition\": {\"type\": \"NUMERICAL_IS_HIGHER_THAN\", \"attribute\": \"Pclass\", \"threshold\": 1.5}, \"children\": [{\"value\": {\"type\": \"PROBABILITY\", \"distribution\": [0.851528384279476, 0.14847161572052403], \"num_examples\": 458.0}}, {\"value\": {\"type\": \"PROBABILITY\", \"distribution\": [0.5729166666666666, 0.4270833333333333], \"num_examples\": 96.0}}]}]}, \"#tree_plot_a56ec324d1604f218f105dc50d6aa3ca\")\n",
      "</script>\n",
      "\n"
     ]
    }
   ],
   "source": [
    "print(tfdf.model_plotter.plot_model(model_clf, tree_idx=0))"
   ]
  },
  {
   "cell_type": "code",
   "execution_count": 9,
   "id": "5623184d",
   "metadata": {},
   "outputs": [
    {
     "name": "stderr",
     "output_type": "stream",
     "text": [
      "WARNING:absl:Function `_wrapped_model` contains input name(s) Age_mean, Embarked_label, Fare, Parch, Pclass, Sex_label, SibSp with unsupported characters which will be renamed to age_mean, embarked_label, fare, parch, pclass, sex_label, sibsp in the SavedModel.\n",
      "WARNING:absl:Found untraced functions such as call_get_leaves while saving (showing 1 of 1). These functions will not be directly callable after loading.\n"
     ]
    },
    {
     "name": "stdout",
     "output_type": "stream",
     "text": [
      "INFO:tensorflow:Assets written to: /Users/tudor.lapusan/Documents/workspace/personal/dtreeviz/testing/testlib/models/fixtures/tfdf_classifier_0.2.4/assets\n"
     ]
    },
    {
     "name": "stderr",
     "output_type": "stream",
     "text": [
      "INFO:tensorflow:Assets written to: /Users/tudor.lapusan/Documents/workspace/personal/dtreeviz/testing/testlib/models/fixtures/tfdf_classifier_0.2.4/assets\n"
     ]
    }
   ],
   "source": [
    "# model_clf.save(\"/Users/tudor.lapusan/Documents/workspace/personal/dtreeviz/testing/testlib/models/fixtures/tfdf_classifier_0.2.4\")\n"
   ]
  },
  {
   "cell_type": "code",
   "execution_count": 13,
   "id": "fdcabf71",
   "metadata": {},
   "outputs": [],
   "source": [
    "insp = inspector_lib.make_inspector(\"/Users/tudor.lapusan/Documents/workspace/personal/dtreeviz/testing/testlib/models/fixtures/tfdf_classifier_0.2.4/assets\")\n"
   ]
  },
  {
   "cell_type": "code",
   "execution_count": 15,
   "id": "165cf3ac",
   "metadata": {},
   "outputs": [
    {
     "data": {
      "text/plain": [
       "<tensorflow_decision_forests.component.inspector.inspector._RandomForestInspector at 0x13bdb8af0>"
      ]
     },
     "execution_count": 15,
     "metadata": {},
     "output_type": "execute_result"
    }
   ],
   "source": [
    "insp"
   ]
  },
  {
   "cell_type": "code",
   "execution_count": 16,
   "id": "e4752cd5",
   "metadata": {},
   "outputs": [
    {
     "data": {
      "text/plain": [
       "True"
      ]
     },
     "execution_count": 16,
     "metadata": {},
     "output_type": "execute_result"
    }
   ],
   "source": [
    "isinstance(insp, tensorflow_decision_forests.component.inspector.inspector._RandomForestInspector)"
   ]
  },
  {
   "cell_type": "code",
   "execution_count": 41,
   "id": "9ccb51b8",
   "metadata": {},
   "outputs": [
    {
     "data": {
      "text/plain": [
       "NonLeafNode(condition=(Sex_label >= 0.5; miss=False), pos_child=NonLeafNode(condition=(Parch >= 2.5; miss=False), pos_child=LeafNode(value=ProbabilityValue([0.875, 0.125],n=16.0), idx=3), neg_child=LeafNode(value=ProbabilityValue([0.18691588785046728, 0.8130841121495327],n=321.0), idx=2), value=ProbabilityValue([0.2195845697329377, 0.7804154302670623],n=337.0)), neg_child=NonLeafNode(condition=(Pclass >= 1.5; miss=True), pos_child=LeafNode(value=ProbabilityValue([0.851528384279476, 0.14847161572052403],n=458.0), idx=1), neg_child=LeafNode(value=ProbabilityValue([0.5729166666666666, 0.4270833333333333],n=96.0), idx=0), value=ProbabilityValue([0.8032490974729242, 0.1967509025270758],n=554.0)), value=ProbabilityValue([0.5824915824915825, 0.4175084175084175],n=891.0))"
      ]
     },
     "execution_count": 41,
     "metadata": {},
     "output_type": "execute_result"
    }
   ],
   "source": [
    "insp.extract_tree(tree_idx=0).root"
   ]
  },
  {
   "cell_type": "code",
   "execution_count": 35,
   "id": "b6a50185",
   "metadata": {},
   "outputs": [],
   "source": [
    "model2 = tensorflow.keras.models.load_model(\"/Users/tudor.lapusan/Documents/workspace/personal/dtreeviz/testing/testlib/models/fixtures/tfdf_classifier_0.2.4\")\n"
   ]
  },
  {
   "cell_type": "code",
   "execution_count": null,
   "id": "916041de",
   "metadata": {},
   "outputs": [],
   "source": [
    "model2."
   ]
  },
  {
   "cell_type": "code",
   "execution_count": null,
   "id": "07fce02b",
   "metadata": {},
   "outputs": [],
   "source": []
  }
 ],
 "metadata": {
  "kernelspec": {
   "display_name": "Python 3",
   "language": "python",
   "name": "python3"
  },
  "language_info": {
   "codemirror_mode": {
    "name": "ipython",
    "version": 3
   },
   "file_extension": ".py",
   "mimetype": "text/x-python",
   "name": "python",
   "nbconvert_exporter": "python",
   "pygments_lexer": "ipython3",
   "version": "3.8.2"
  },
  "toc": {
   "base_numbering": 1,
   "nav_menu": {},
   "number_sections": true,
   "sideBar": true,
   "skip_h1_title": false,
   "title_cell": "Table of Contents",
   "title_sidebar": "Contents",
   "toc_cell": false,
   "toc_position": {},
   "toc_section_display": true,
   "toc_window_display": true
  }
 },
 "nbformat": 4,
 "nbformat_minor": 5
}
